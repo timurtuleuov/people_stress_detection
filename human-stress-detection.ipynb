{
 "cells": [
  {
   "cell_type": "code",
   "execution_count": 1,
   "id": "c596fd08",
   "metadata": {
    "_cell_guid": "b1076dfc-b9ad-4769-8c92-a6c4dae69d19",
    "_uuid": "8f2839f25d086af736a60e9eeb907d3b93b6e0e5",
    "execution": {
     "iopub.execute_input": "2022-03-21T17:11:35.977173Z",
     "iopub.status.busy": "2022-03-21T17:11:35.976016Z",
     "iopub.status.idle": "2022-03-21T17:11:35.985099Z",
     "shell.execute_reply": "2022-03-21T17:11:35.985629Z"
    },
    "papermill": {
     "duration": 0.038901,
     "end_time": "2022-03-21T17:11:35.985946",
     "exception": false,
     "start_time": "2022-03-21T17:11:35.947045",
     "status": "completed"
    },
    "tags": []
   },
   "outputs": [],
   "source": [
    "import pandas as pd "
   ]
  },
  {
   "cell_type": "code",
   "execution_count": 2,
   "id": "ce9e7d2b",
   "metadata": {
    "execution": {
     "iopub.execute_input": "2022-03-21T17:11:36.038982Z",
     "iopub.status.busy": "2022-03-21T17:11:36.038231Z",
     "iopub.status.idle": "2022-03-21T17:11:36.058772Z",
     "shell.execute_reply": "2022-03-21T17:11:36.059348Z"
    },
    "papermill": {
     "duration": 0.048347,
     "end_time": "2022-03-21T17:11:36.059526",
     "exception": false,
     "start_time": "2022-03-21T17:11:36.011179",
     "status": "completed"
    },
    "tags": []
   },
   "outputs": [],
   "source": [
    "df = pd.read_csv('../input/human-stress-detection-in-and-through-sleep/SaYoPillow.csv')"
   ]
  },
  {
   "cell_type": "code",
   "execution_count": 3,
   "id": "5e7ac349",
   "metadata": {
    "execution": {
     "iopub.execute_input": "2022-03-21T17:11:36.112262Z",
     "iopub.status.busy": "2022-03-21T17:11:36.111544Z",
     "iopub.status.idle": "2022-03-21T17:11:36.122341Z",
     "shell.execute_reply": "2022-03-21T17:11:36.122927Z"
    },
    "papermill": {
     "duration": 0.039544,
     "end_time": "2022-03-21T17:11:36.123113",
     "exception": false,
     "start_time": "2022-03-21T17:11:36.083569",
     "status": "completed"
    },
    "tags": []
   },
   "outputs": [],
   "source": [
    "df.rename(columns = {'sr.1':'sh'}, inplace=True)"
   ]
  },
  {
   "cell_type": "markdown",
   "id": "7068d8cc",
   "metadata": {
    "papermill": {
     "duration": 0.023866,
     "end_time": "2022-03-21T17:11:36.171599",
     "exception": false,
     "start_time": "2022-03-21T17:11:36.147733",
     "status": "completed"
    },
    "tags": []
   },
   "source": [
    "<CENTER><h1>Main Features</h1>\n",
    "sr - snoring rate</br>\n",
    "rr - respiration rate</br>\n",
    "t - body temperature</br>\n",
    "lm - limb movement</br>\n",
    "bo - blood ohygen</br>\n",
    "rem - eye movement</br>\n",
    "sh - sleeping hours</br>\n",
    "hr - heart rate</br>\n",
    "sl - stress level</CENTER>"
   ]
  },
  {
   "cell_type": "code",
   "execution_count": 4,
   "id": "ee870ca6",
   "metadata": {
    "execution": {
     "iopub.execute_input": "2022-03-21T17:11:36.226652Z",
     "iopub.status.busy": "2022-03-21T17:11:36.225925Z",
     "iopub.status.idle": "2022-03-21T17:11:36.249865Z",
     "shell.execute_reply": "2022-03-21T17:11:36.250411Z"
    },
    "papermill": {
     "duration": 0.054058,
     "end_time": "2022-03-21T17:11:36.250581",
     "exception": false,
     "start_time": "2022-03-21T17:11:36.196523",
     "status": "completed"
    },
    "tags": []
   },
   "outputs": [
    {
     "data": {
      "text/html": [
       "<div>\n",
       "<style scoped>\n",
       "    .dataframe tbody tr th:only-of-type {\n",
       "        vertical-align: middle;\n",
       "    }\n",
       "\n",
       "    .dataframe tbody tr th {\n",
       "        vertical-align: top;\n",
       "    }\n",
       "\n",
       "    .dataframe thead th {\n",
       "        text-align: right;\n",
       "    }\n",
       "</style>\n",
       "<table border=\"1\" class=\"dataframe\">\n",
       "  <thead>\n",
       "    <tr style=\"text-align: right;\">\n",
       "      <th></th>\n",
       "      <th>sr</th>\n",
       "      <th>rr</th>\n",
       "      <th>t</th>\n",
       "      <th>lm</th>\n",
       "      <th>bo</th>\n",
       "      <th>rem</th>\n",
       "      <th>sh</th>\n",
       "      <th>hr</th>\n",
       "      <th>sl</th>\n",
       "    </tr>\n",
       "  </thead>\n",
       "  <tbody>\n",
       "    <tr>\n",
       "      <th>0</th>\n",
       "      <td>93.80</td>\n",
       "      <td>25.680</td>\n",
       "      <td>91.840</td>\n",
       "      <td>16.600</td>\n",
       "      <td>89.840</td>\n",
       "      <td>99.60</td>\n",
       "      <td>1.840</td>\n",
       "      <td>74.20</td>\n",
       "      <td>3</td>\n",
       "    </tr>\n",
       "    <tr>\n",
       "      <th>1</th>\n",
       "      <td>91.64</td>\n",
       "      <td>25.104</td>\n",
       "      <td>91.552</td>\n",
       "      <td>15.880</td>\n",
       "      <td>89.552</td>\n",
       "      <td>98.88</td>\n",
       "      <td>1.552</td>\n",
       "      <td>72.76</td>\n",
       "      <td>3</td>\n",
       "    </tr>\n",
       "    <tr>\n",
       "      <th>2</th>\n",
       "      <td>60.00</td>\n",
       "      <td>20.000</td>\n",
       "      <td>96.000</td>\n",
       "      <td>10.000</td>\n",
       "      <td>95.000</td>\n",
       "      <td>85.00</td>\n",
       "      <td>7.000</td>\n",
       "      <td>60.00</td>\n",
       "      <td>1</td>\n",
       "    </tr>\n",
       "    <tr>\n",
       "      <th>3</th>\n",
       "      <td>85.76</td>\n",
       "      <td>23.536</td>\n",
       "      <td>90.768</td>\n",
       "      <td>13.920</td>\n",
       "      <td>88.768</td>\n",
       "      <td>96.92</td>\n",
       "      <td>0.768</td>\n",
       "      <td>68.84</td>\n",
       "      <td>3</td>\n",
       "    </tr>\n",
       "    <tr>\n",
       "      <th>4</th>\n",
       "      <td>48.12</td>\n",
       "      <td>17.248</td>\n",
       "      <td>97.872</td>\n",
       "      <td>6.496</td>\n",
       "      <td>96.248</td>\n",
       "      <td>72.48</td>\n",
       "      <td>8.248</td>\n",
       "      <td>53.12</td>\n",
       "      <td>0</td>\n",
       "    </tr>\n",
       "  </tbody>\n",
       "</table>\n",
       "</div>"
      ],
      "text/plain": [
       "      sr      rr       t      lm      bo    rem     sh     hr  sl\n",
       "0  93.80  25.680  91.840  16.600  89.840  99.60  1.840  74.20   3\n",
       "1  91.64  25.104  91.552  15.880  89.552  98.88  1.552  72.76   3\n",
       "2  60.00  20.000  96.000  10.000  95.000  85.00  7.000  60.00   1\n",
       "3  85.76  23.536  90.768  13.920  88.768  96.92  0.768  68.84   3\n",
       "4  48.12  17.248  97.872   6.496  96.248  72.48  8.248  53.12   0"
      ]
     },
     "execution_count": 4,
     "metadata": {},
     "output_type": "execute_result"
    }
   ],
   "source": [
    "df.head()"
   ]
  },
  {
   "cell_type": "code",
   "execution_count": 5,
   "id": "41176274",
   "metadata": {
    "execution": {
     "iopub.execute_input": "2022-03-21T17:11:36.308008Z",
     "iopub.status.busy": "2022-03-21T17:11:36.307300Z",
     "iopub.status.idle": "2022-03-21T17:11:36.312047Z",
     "shell.execute_reply": "2022-03-21T17:11:36.312575Z"
    },
    "papermill": {
     "duration": 0.035047,
     "end_time": "2022-03-21T17:11:36.312739",
     "exception": false,
     "start_time": "2022-03-21T17:11:36.277692",
     "status": "completed"
    },
    "tags": []
   },
   "outputs": [
    {
     "data": {
      "text/plain": [
       "(630, 9)"
      ]
     },
     "execution_count": 5,
     "metadata": {},
     "output_type": "execute_result"
    }
   ],
   "source": [
    "df.shape"
   ]
  },
  {
   "cell_type": "code",
   "execution_count": 6,
   "id": "ad28cd71",
   "metadata": {
    "execution": {
     "iopub.execute_input": "2022-03-21T17:11:36.372680Z",
     "iopub.status.busy": "2022-03-21T17:11:36.371473Z",
     "iopub.status.idle": "2022-03-21T17:11:36.377593Z",
     "shell.execute_reply": "2022-03-21T17:11:36.378474Z"
    },
    "papermill": {
     "duration": 0.040415,
     "end_time": "2022-03-21T17:11:36.378729",
     "exception": false,
     "start_time": "2022-03-21T17:11:36.338314",
     "status": "completed"
    },
    "tags": []
   },
   "outputs": [
    {
     "data": {
      "text/plain": [
       "[0, 1, 2, 3, 4]"
      ]
     },
     "execution_count": 6,
     "metadata": {},
     "output_type": "execute_result"
    }
   ],
   "source": [
    "sorted(df.sl.unique())"
   ]
  },
  {
   "cell_type": "code",
   "execution_count": 7,
   "id": "2b8c611c",
   "metadata": {
    "execution": {
     "iopub.execute_input": "2022-03-21T17:11:36.463915Z",
     "iopub.status.busy": "2022-03-21T17:11:36.462785Z",
     "iopub.status.idle": "2022-03-21T17:11:36.469073Z",
     "shell.execute_reply": "2022-03-21T17:11:36.469871Z"
    },
    "papermill": {
     "duration": 0.052582,
     "end_time": "2022-03-21T17:11:36.470142",
     "exception": false,
     "start_time": "2022-03-21T17:11:36.417560",
     "status": "completed"
    },
    "tags": []
   },
   "outputs": [
    {
     "data": {
      "text/plain": [
       "3    126\n",
       "1    126\n",
       "0    126\n",
       "2    126\n",
       "4    126\n",
       "Name: sl, dtype: int64"
      ]
     },
     "execution_count": 7,
     "metadata": {},
     "output_type": "execute_result"
    }
   ],
   "source": [
    "df.sl.value_counts()"
   ]
  },
  {
   "cell_type": "code",
   "execution_count": 8,
   "id": "8be9600f",
   "metadata": {
    "execution": {
     "iopub.execute_input": "2022-03-21T17:11:36.536304Z",
     "iopub.status.busy": "2022-03-21T17:11:36.533467Z",
     "iopub.status.idle": "2022-03-21T17:11:36.538650Z",
     "shell.execute_reply": "2022-03-21T17:11:36.539165Z"
    },
    "papermill": {
     "duration": 0.037051,
     "end_time": "2022-03-21T17:11:36.539344",
     "exception": false,
     "start_time": "2022-03-21T17:11:36.502293",
     "status": "completed"
    },
    "tags": []
   },
   "outputs": [
    {
     "name": "stdout",
     "output_type": "stream",
     "text": [
      "Average amount of sleep (median): 3.5\n"
     ]
    }
   ],
   "source": [
    "print(\"Average amount of sleep (median):\",df.sh.median())"
   ]
  },
  {
   "cell_type": "code",
   "execution_count": 9,
   "id": "5b71e5bb",
   "metadata": {
    "execution": {
     "iopub.execute_input": "2022-03-21T17:11:36.600936Z",
     "iopub.status.busy": "2022-03-21T17:11:36.600200Z",
     "iopub.status.idle": "2022-03-21T17:11:36.606651Z",
     "shell.execute_reply": "2022-03-21T17:11:36.605721Z"
    },
    "papermill": {
     "duration": 0.038173,
     "end_time": "2022-03-21T17:11:36.606870",
     "exception": false,
     "start_time": "2022-03-21T17:11:36.568697",
     "status": "completed"
    },
    "tags": []
   },
   "outputs": [
    {
     "name": "stdout",
     "output_type": "stream",
     "text": [
      "Average amount of stress (median): 2.0\n"
     ]
    }
   ],
   "source": [
    "print(\"Average amount of stress (median):\",df.sl.median())"
   ]
  },
  {
   "cell_type": "markdown",
   "id": "61392c83",
   "metadata": {
    "papermill": {
     "duration": 0.027201,
     "end_time": "2022-03-21T17:11:36.663218",
     "exception": false,
     "start_time": "2022-03-21T17:11:36.636017",
     "status": "completed"
    },
    "tags": []
   },
   "source": [
    "Now let's check for nulls"
   ]
  },
  {
   "cell_type": "code",
   "execution_count": 10,
   "id": "44cf35c4",
   "metadata": {
    "execution": {
     "iopub.execute_input": "2022-03-21T17:11:36.727003Z",
     "iopub.status.busy": "2022-03-21T17:11:36.726322Z",
     "iopub.status.idle": "2022-03-21T17:11:36.729771Z",
     "shell.execute_reply": "2022-03-21T17:11:36.730585Z"
    },
    "papermill": {
     "duration": 0.040017,
     "end_time": "2022-03-21T17:11:36.730820",
     "exception": false,
     "start_time": "2022-03-21T17:11:36.690803",
     "status": "completed"
    },
    "tags": []
   },
   "outputs": [
    {
     "name": "stdout",
     "output_type": "stream",
     "text": [
      "Nice!!!\n"
     ]
    }
   ],
   "source": [
    "if not df.isnull().values.any():\n",
    "    print(\"Nice!!!\")\n",
    "else:\n",
    "    print(\"(((\")"
   ]
  },
  {
   "cell_type": "markdown",
   "id": "a70980f1",
   "metadata": {
    "papermill": {
     "duration": 0.027874,
     "end_time": "2022-03-21T17:11:36.788678",
     "exception": false,
     "start_time": "2022-03-21T17:11:36.760804",
     "status": "completed"
    },
    "tags": []
   },
   "source": [
    "MMM NICE!!!"
   ]
  },
  {
   "cell_type": "markdown",
   "id": "bba8186a",
   "metadata": {
    "papermill": {
     "duration": 0.029172,
     "end_time": "2022-03-21T17:11:36.847387",
     "exception": false,
     "start_time": "2022-03-21T17:11:36.818215",
     "status": "completed"
    },
    "tags": []
   },
   "source": [
    "Now let's make a couple simple plots"
   ]
  },
  {
   "cell_type": "code",
   "execution_count": 11,
   "id": "897bf690",
   "metadata": {
    "execution": {
     "iopub.execute_input": "2022-03-21T17:11:36.910982Z",
     "iopub.status.busy": "2022-03-21T17:11:36.910265Z",
     "iopub.status.idle": "2022-03-21T17:11:37.956119Z",
     "shell.execute_reply": "2022-03-21T17:11:37.956626Z"
    },
    "papermill": {
     "duration": 1.080536,
     "end_time": "2022-03-21T17:11:37.956810",
     "exception": false,
     "start_time": "2022-03-21T17:11:36.876274",
     "status": "completed"
    },
    "tags": []
   },
   "outputs": [],
   "source": [
    "import seaborn as sns"
   ]
  },
  {
   "cell_type": "code",
   "execution_count": 12,
   "id": "32e56737",
   "metadata": {
    "execution": {
     "iopub.execute_input": "2022-03-21T17:11:38.020413Z",
     "iopub.status.busy": "2022-03-21T17:11:38.019313Z",
     "iopub.status.idle": "2022-03-21T17:11:38.485414Z",
     "shell.execute_reply": "2022-03-21T17:11:38.485963Z"
    },
    "papermill": {
     "duration": 0.499549,
     "end_time": "2022-03-21T17:11:38.486139",
     "exception": false,
     "start_time": "2022-03-21T17:11:37.986590",
     "status": "completed"
    },
    "tags": []
   },
   "outputs": [
    {
     "data": {
      "text/plain": [
       "Text(0, 0.5, 'Sleep hours')"
      ]
     },
     "execution_count": 12,
     "metadata": {},
     "output_type": "execute_result"
    },
    {
     "data": {
      "image/png": "[encoded data removed]",
      "text/plain": [
       "<Figure size 432x288 with 1 Axes>"
      ]
     },
     "metadata": {
      "needs_background": "light"
     },
     "output_type": "display_data"
    }
   ],
   "source": [
    "sleep_hours_plot = sns.lineplot(data=df, x='sl',y='sh')\n",
    "sleep_hours_plot.axes.set_title(\"Dependence of stress level on sleep hours\", fontsize=16)\n",
    "sleep_hours_plot.set_xlabel(\"Stress level\", fontsize=14)\n",
    "sleep_hours_plot.set_ylabel(\"Sleep hours\", fontsize=14)"
   ]
  },
  {
   "cell_type": "code",
   "execution_count": 13,
   "id": "2befc564",
   "metadata": {
    "execution": {
     "iopub.execute_input": "2022-03-21T17:11:38.553264Z",
     "iopub.status.busy": "2022-03-21T17:11:38.552565Z",
     "iopub.status.idle": "2022-03-21T17:11:38.957763Z",
     "shell.execute_reply": "2022-03-21T17:11:38.957266Z"
    },
    "papermill": {
     "duration": 0.440796,
     "end_time": "2022-03-21T17:11:38.957937",
     "exception": false,
     "start_time": "2022-03-21T17:11:38.517141",
     "status": "completed"
    },
    "tags": []
   },
   "outputs": [
    {
     "data": {
      "text/plain": [
       "Text(0, 0.5, 'Heart rate')"
      ]
     },
     "execution_count": 13,
     "metadata": {},
     "output_type": "execute_result"
    },
    {
     "data": {
      "image/png": "[encoded data removed]",
      "text/plain": [
       "<Figure size 432x288 with 1 Axes>"
      ]
     },
     "metadata": {
      "needs_background": "light"
     },
     "output_type": "display_data"
    }
   ],
   "source": [
    "heart_rate_plot = sns.lineplot(data=df, x='sl',y='hr', color='red')\n",
    "heart_rate_plot.axes.set_title(\"Dependence of stress level on heart rate\", fontsize=16)\n",
    "heart_rate_plot.set_xlabel(\"Stress level\", fontsize=14)\n",
    "heart_rate_plot.set_ylabel(\"Heart rate\", fontsize=14)"
   ]
  },
  {
   "cell_type": "code",
   "execution_count": 14,
   "id": "53e01775",
   "metadata": {
    "execution": {
     "iopub.execute_input": "2022-03-21T17:11:39.044657Z",
     "iopub.status.busy": "2022-03-21T17:11:39.029450Z",
     "iopub.status.idle": "2022-03-21T17:11:39.432912Z",
     "shell.execute_reply": "2022-03-21T17:11:39.432180Z"
    },
    "papermill": {
     "duration": 0.443502,
     "end_time": "2022-03-21T17:11:39.433058",
     "exception": false,
     "start_time": "2022-03-21T17:11:38.989556",
     "status": "completed"
    },
    "tags": []
   },
   "outputs": [
    {
     "data": {
      "text/plain": [
       "Text(0, 0.5, 'Blood ohygen')"
      ]
     },
     "execution_count": 14,
     "metadata": {},
     "output_type": "execute_result"
    },
    {
     "data": {
      "image/png": "[encoded data removed]",
      "text/plain": [
       "<Figure size 432x288 with 1 Axes>"
      ]
     },
     "metadata": {
      "needs_background": "light"
     },
     "output_type": "display_data"
    }
   ],
   "source": [
    "blood_ohygen_plot = sns.lineplot(data=df, x='sl',y='bo')\n",
    "blood_ohygen_plot.axes.set_title(\"Dependence of stress level on blood ohygen\", fontsize=16)\n",
    "blood_ohygen_plot.set_xlabel(\"Stress level\", fontsize=14)\n",
    "blood_ohygen_plot.set_ylabel(\"Blood ohygen\", fontsize=14)"
   ]
  },
  {
   "cell_type": "markdown",
   "id": "d213a0f3",
   "metadata": {
    "papermill": {
     "duration": 0.033071,
     "end_time": "2022-03-21T17:11:39.500583",
     "exception": false,
     "start_time": "2022-03-21T17:11:39.467512",
     "status": "completed"
    },
    "tags": []
   },
   "source": [
    "<CENTER><h1>It's time to make robots work for people</h1></CENTER>"
   ]
  },
  {
   "cell_type": "code",
   "execution_count": 15,
   "id": "cb2218f9",
   "metadata": {
    "execution": {
     "iopub.execute_input": "2022-03-21T17:11:39.574715Z",
     "iopub.status.busy": "2022-03-21T17:11:39.572279Z",
     "iopub.status.idle": "2022-03-21T17:11:39.969807Z",
     "shell.execute_reply": "2022-03-21T17:11:39.969214Z"
    },
    "papermill": {
     "duration": 0.435276,
     "end_time": "2022-03-21T17:11:39.969964",
     "exception": false,
     "start_time": "2022-03-21T17:11:39.534688",
     "status": "completed"
    },
    "tags": []
   },
   "outputs": [],
   "source": [
    "from sklearn.ensemble import GradientBoostingClassifier\n",
    "from sklearn.model_selection import train_test_split"
   ]
  },
  {
   "cell_type": "code",
   "execution_count": 16,
   "id": "2466d276",
   "metadata": {
    "execution": {
     "iopub.execute_input": "2022-03-21T17:11:40.043507Z",
     "iopub.status.busy": "2022-03-21T17:11:40.042792Z",
     "iopub.status.idle": "2022-03-21T17:11:40.046149Z",
     "shell.execute_reply": "2022-03-21T17:11:40.045239Z"
    },
    "papermill": {
     "duration": 0.042212,
     "end_time": "2022-03-21T17:11:40.046301",
     "exception": false,
     "start_time": "2022-03-21T17:11:40.004089",
     "status": "completed"
    },
    "tags": []
   },
   "outputs": [],
   "source": [
    "X = df.drop(columns='sl')\n",
    "y = df.sl"
   ]
  },
  {
   "cell_type": "code",
   "execution_count": 17,
   "id": "50a7886c",
   "metadata": {
    "execution": {
     "iopub.execute_input": "2022-03-21T17:11:40.121721Z",
     "iopub.status.busy": "2022-03-21T17:11:40.120925Z",
     "iopub.status.idle": "2022-03-21T17:11:40.124210Z",
     "shell.execute_reply": "2022-03-21T17:11:40.123619Z"
    },
    "papermill": {
     "duration": 0.044066,
     "end_time": "2022-03-21T17:11:40.124384",
     "exception": false,
     "start_time": "2022-03-21T17:11:40.080318",
     "status": "completed"
    },
    "tags": []
   },
   "outputs": [],
   "source": [
    "X_train, X_test, y_train, y_test = train_test_split(X, y, \n",
    "                                                    train_size=0.5, \n",
    "                                                    random_state=42)"
   ]
  },
  {
   "cell_type": "code",
   "execution_count": 18,
   "id": "5d1c9368",
   "metadata": {
    "execution": {
     "iopub.execute_input": "2022-03-21T17:11:40.198374Z",
     "iopub.status.busy": "2022-03-21T17:11:40.197368Z",
     "iopub.status.idle": "2022-03-21T17:11:40.201338Z",
     "shell.execute_reply": "2022-03-21T17:11:40.202086Z"
    },
    "papermill": {
     "duration": 0.042517,
     "end_time": "2022-03-21T17:11:40.202263",
     "exception": false,
     "start_time": "2022-03-21T17:11:40.159746",
     "status": "completed"
    },
    "tags": []
   },
   "outputs": [],
   "source": [
    "clf = GradientBoostingClassifier(n_estimators=20, random_state = 0)"
   ]
  },
  {
   "cell_type": "code",
   "execution_count": 19,
   "id": "cd46f3b8",
   "metadata": {
    "execution": {
     "iopub.execute_input": "2022-03-21T17:11:40.273796Z",
     "iopub.status.busy": "2022-03-21T17:11:40.272860Z",
     "iopub.status.idle": "2022-03-21T17:11:40.378419Z",
     "shell.execute_reply": "2022-03-21T17:11:40.378987Z"
    },
    "papermill": {
     "duration": 0.142999,
     "end_time": "2022-03-21T17:11:40.379158",
     "exception": false,
     "start_time": "2022-03-21T17:11:40.236159",
     "status": "completed"
    },
    "tags": []
   },
   "outputs": [
    {
     "data": {
      "text/plain": [
       "GradientBoostingClassifier(n_estimators=20, random_state=0)"
      ]
     },
     "execution_count": 19,
     "metadata": {},
     "output_type": "execute_result"
    }
   ],
   "source": [
    "clf.fit(X_train, y_train)"
   ]
  },
  {
   "cell_type": "markdown",
   "id": "f0e5e103",
   "metadata": {
    "papermill": {
     "duration": 0.034344,
     "end_time": "2022-03-21T17:11:40.447761",
     "exception": false,
     "start_time": "2022-03-21T17:11:40.413417",
     "status": "completed"
    },
    "tags": []
   },
   "source": [
    "Now time for testing"
   ]
  },
  {
   "cell_type": "code",
   "execution_count": 20,
   "id": "d16dab3b",
   "metadata": {
    "execution": {
     "iopub.execute_input": "2022-03-21T17:11:40.523759Z",
     "iopub.status.busy": "2022-03-21T17:11:40.522827Z",
     "iopub.status.idle": "2022-03-21T17:11:40.525454Z",
     "shell.execute_reply": "2022-03-21T17:11:40.525987Z"
    },
    "papermill": {
     "duration": 0.042274,
     "end_time": "2022-03-21T17:11:40.526167",
     "exception": false,
     "start_time": "2022-03-21T17:11:40.483893",
     "status": "completed"
    },
    "tags": []
   },
   "outputs": [],
   "source": [
    "from sklearn.metrics import mean_absolute_error, mean_squared_error, r2_score"
   ]
  },
  {
   "cell_type": "code",
   "execution_count": 21,
   "id": "d7d15a7f",
   "metadata": {
    "execution": {
     "iopub.execute_input": "2022-03-21T17:11:40.600244Z",
     "iopub.status.busy": "2022-03-21T17:11:40.599565Z",
     "iopub.status.idle": "2022-03-21T17:11:40.606353Z",
     "shell.execute_reply": "2022-03-21T17:11:40.606867Z"
    },
    "papermill": {
     "duration": 0.04544,
     "end_time": "2022-03-21T17:11:40.607052",
     "exception": false,
     "start_time": "2022-03-21T17:11:40.561612",
     "status": "completed"
    },
    "tags": []
   },
   "outputs": [],
   "source": [
    "y_pre = clf.predict(X_test)"
   ]
  },
  {
   "cell_type": "code",
   "execution_count": 22,
   "id": "25217289",
   "metadata": {
    "execution": {
     "iopub.execute_input": "2022-03-21T17:11:40.685464Z",
     "iopub.status.busy": "2022-03-21T17:11:40.684780Z",
     "iopub.status.idle": "2022-03-21T17:11:40.690247Z",
     "shell.execute_reply": "2022-03-21T17:11:40.690873Z"
    },
    "papermill": {
     "duration": 0.046913,
     "end_time": "2022-03-21T17:11:40.691063",
     "exception": false,
     "start_time": "2022-03-21T17:11:40.644150",
     "status": "completed"
    },
    "tags": []
   },
   "outputs": [
    {
     "name": "stdout",
     "output_type": "stream",
     "text": [
      "MSE: 0.0159\n",
      "MAE: 0.0159\n",
      "R2: 0.9918\n"
     ]
    }
   ],
   "source": [
    "mse = mean_squared_error(y_test, y_pre)\n",
    "print(\"MSE: %.4f\" % mse)\n",
    " \n",
    "mae = mean_absolute_error(y_test, y_pre)\n",
    "print(\"MAE: %.4f\" % mae)\n",
    " \n",
    "R2 = r2_score(y_test,y_pre)\n",
    "print(\"R2: %.4f\" % R2)"
   ]
  },
  {
   "cell_type": "code",
   "execution_count": 23,
   "id": "7f1f005f",
   "metadata": {
    "execution": {
     "iopub.execute_input": "2022-03-21T17:11:40.770992Z",
     "iopub.status.busy": "2022-03-21T17:11:40.767555Z",
     "iopub.status.idle": "2022-03-21T17:11:40.777958Z",
     "shell.execute_reply": "2022-03-21T17:11:40.778578Z"
    },
    "papermill": {
     "duration": 0.05012,
     "end_time": "2022-03-21T17:11:40.778749",
     "exception": false,
     "start_time": "2022-03-21T17:11:40.728629",
     "status": "completed"
    },
    "tags": []
   },
   "outputs": [
    {
     "name": "stdout",
     "output_type": "stream",
     "text": [
      "Score: 0.9841269841269841\n"
     ]
    }
   ],
   "source": [
    "print(f\"Score: {clf.score(X_test, y_test)}\")"
   ]
  },
  {
   "cell_type": "markdown",
   "id": "0da85cca",
   "metadata": {
    "papermill": {
     "duration": 0.03755,
     "end_time": "2022-03-21T17:11:40.852475",
     "exception": false,
     "start_time": "2022-03-21T17:11:40.814925",
     "status": "completed"
    },
    "tags": []
   },
   "source": [
    "I think this is a good result. Thank you for your attention if you read this. If I have made any mistakes, then write about it in the comments. Thanks to the author of this dataset. I had fun while working on this data.</br>\n",
    "<h2 align=\"right\">See you, Spacecowboy...</h2>"
   ]
  }
 ],
 "metadata": {
  "kernelspec": {
   "display_name": "Python 3",
   "language": "python",
   "name": "python3"
  },
  "language_info": {
   "codemirror_mode": {
    "name": "ipython",
    "version": 3
   },
   "file_extension": ".py",
   "mimetype": "text/x-python",
   "name": "python",
   "nbconvert_exporter": "python",
   "pygments_lexer": "ipython3",
   "version": "3.7.12"
  },
  "papermill": {
   "default_parameters": {},
   "duration": 15.943916,
   "end_time": "2022-03-21T17:11:41.700226",
   "environment_variables": {},
   "exception": null,
   "input_path": "__notebook__.ipynb",
   "output_path": "__notebook__.ipynb",
   "parameters": {},
   "start_time": "2022-03-21T17:11:25.756310",
   "version": "2.3.3"
  }
 },
 "nbformat": 4,
 "nbformat_minor": 5
}
